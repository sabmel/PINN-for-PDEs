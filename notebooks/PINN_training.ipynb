{
 "cells": [
  {
   "cell_type": "code",
   "execution_count": 6,
   "id": "b8902901",
   "metadata": {},
   "outputs": [],
   "source": [
    "import sys, os\n",
    "\n",
    "project_root = os.path.abspath(os.path.join(\"..\"))  \n",
    "src_path     = os.path.join(project_root, \"src\")\n",
    "sys.path.insert(0, src_path)"
   ]
  },
  {
   "cell_type": "code",
   "execution_count": 7,
   "id": "7cd08a72",
   "metadata": {},
   "outputs": [
    {
     "ename": "ImportError",
     "evalue": "cannot import name 'set_seed' from 'utils' (c:\\Users\\sabme\\CodingProjects\\PINN-for-PDEs\\src\\utils.py)",
     "output_type": "error",
     "traceback": [
      "\u001b[1;31m---------------------------------------------------------------------------\u001b[0m",
      "\u001b[1;31mImportError\u001b[0m                               Traceback (most recent call last)",
      "Cell \u001b[1;32mIn[7], line 4\u001b[0m\n\u001b[0;32m      2\u001b[0m \u001b[38;5;28;01mimport\u001b[39;00m\u001b[38;5;250m \u001b[39m\u001b[38;5;21;01mtorch\u001b[39;00m        \n\u001b[0;32m      3\u001b[0m \u001b[38;5;28;01mimport\u001b[39;00m\u001b[38;5;250m \u001b[39m\u001b[38;5;21;01mmatplotlib\u001b[39;00m\u001b[38;5;21;01m.\u001b[39;00m\u001b[38;5;21;01mpyplot\u001b[39;00m\u001b[38;5;250m \u001b[39m\u001b[38;5;28;01mas\u001b[39;00m\u001b[38;5;250m \u001b[39m\u001b[38;5;21;01mplt\u001b[39;00m\n\u001b[1;32m----> 4\u001b[0m \u001b[38;5;28;01mfrom\u001b[39;00m\u001b[38;5;250m \u001b[39m\u001b[38;5;21;01mutils\u001b[39;00m\u001b[38;5;250m \u001b[39m\u001b[38;5;28;01mimport\u001b[39;00m set_seed, to_tensor\n",
      "\u001b[1;31mImportError\u001b[0m: cannot import name 'set_seed' from 'utils' (c:\\Users\\sabme\\CodingProjects\\PINN-for-PDEs\\src\\utils.py)"
     ]
    }
   ],
   "source": [
    "import numpy as np\n",
    "import torch        \n",
    "import matplotlib.pyplot as plt\n",
    "from utils import set_seed, to_tensor"
   ]
  },
  {
   "cell_type": "code",
   "execution_count": null,
   "id": "e5affb5d",
   "metadata": {},
   "outputs": [],
   "source": [
    "from src.data import sample_interior, sample_boundary, sample_initial\n",
    "ν = 1e-2\n",
    "T = 1.0\n",
    "Xf, Tf = sample_interior(N_f=10000, domain=[0,1], tspan=[0,T])\n",
    "Xb0, Tb0, g0 = sample_boundary(N_b=200, x=0, domain_t=[0,T], func=g0_fn)\n",
    "# etc."
   ]
  },
  {
   "cell_type": "code",
   "execution_count": null,
   "id": "bf0a8d1e",
   "metadata": {},
   "outputs": [],
   "source": [
    "from src.model import PINN\n",
    "model = PINN(layers=[2,50,50,50,1], activation='tanh')"
   ]
  },
  {
   "cell_type": "code",
   "execution_count": null,
   "id": "a22f212e",
   "metadata": {},
   "outputs": [],
   "source": [
    "from src.loss import pde_residual, bc_loss, ic_loss\n",
    "from train import Trainer\n",
    "trainer = Trainer(model, optimizer='Adam', lr=1e-3, ν=ν)\n",
    "trainer.run(epochs=5000, Xf=Xf, Tf=Tf, Xb=[Xb0,Xb1], Tb=[Tb0,Tb1], u0=u0_vals)"
   ]
  },
  {
   "cell_type": "code",
   "execution_count": null,
   "id": "74285983",
   "metadata": {},
   "outputs": [],
   "source": [
    "from src.visualize import plot_losses, plot_heatmaps\n",
    "plot_losses(trainer.history)\n",
    "plot_heatmaps(model, reference_solution, grid)"
   ]
  }
 ],
 "metadata": {
  "kernelspec": {
   "display_name": "venv",
   "language": "python",
   "name": "python3"
  },
  "language_info": {
   "codemirror_mode": {
    "name": "ipython",
    "version": 3
   },
   "file_extension": ".py",
   "mimetype": "text/x-python",
   "name": "python",
   "nbconvert_exporter": "python",
   "pygments_lexer": "ipython3",
   "version": "3.9.12"
  }
 },
 "nbformat": 4,
 "nbformat_minor": 5
}
